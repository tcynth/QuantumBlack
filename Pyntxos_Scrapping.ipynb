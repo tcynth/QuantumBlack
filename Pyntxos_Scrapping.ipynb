{
  "nbformat": 4,
  "nbformat_minor": 0,
  "metadata": {
    "colab": {
      "name": "Pyntxos Scrapping.ipynb",
      "version": "0.3.2",
      "provenance": [],
      "collapsed_sections": []
    },
    "kernelspec": {
      "name": "python3",
      "display_name": "Python 3"
    }
  },
  "cells": [
    {
      "cell_type": "code",
      "metadata": {
        "id": "ij4ohhj3R3St",
        "colab_type": "code",
        "outputId": "8cb25154-67d7-444d-90a3-9630642bf46c",
        "colab": {
          "base_uri": "https://localhost:8080/",
          "height": 459
        }
      },
      "source": [
        "! pip install scrapy"
      ],
      "execution_count": 0,
      "outputs": [
        {
          "output_type": "stream",
          "text": [
            "Requirement already satisfied: scrapy in /usr/local/lib/python3.6/dist-packages (1.7.3)\n",
            "Requirement already satisfied: six>=1.5.2 in /usr/local/lib/python3.6/dist-packages (from scrapy) (1.12.0)\n",
            "Requirement already satisfied: pyOpenSSL in /usr/local/lib/python3.6/dist-packages (from scrapy) (19.0.0)\n",
            "Requirement already satisfied: service-identity in /usr/local/lib/python3.6/dist-packages (from scrapy) (18.1.0)\n",
            "Requirement already satisfied: Twisted>=13.1.0; python_version != \"3.4\" in /usr/local/lib/python3.6/dist-packages (from scrapy) (19.7.0)\n",
            "Requirement already satisfied: lxml; python_version != \"3.4\" in /usr/local/lib/python3.6/dist-packages (from scrapy) (4.2.6)\n",
            "Requirement already satisfied: w3lib>=1.17.0 in /usr/local/lib/python3.6/dist-packages (from scrapy) (1.20.0)\n",
            "Requirement already satisfied: PyDispatcher>=2.0.5 in /usr/local/lib/python3.6/dist-packages (from scrapy) (2.0.5)\n",
            "Requirement already satisfied: cssselect>=0.9 in /usr/local/lib/python3.6/dist-packages (from scrapy) (1.0.3)\n",
            "Requirement already satisfied: parsel>=1.5 in /usr/local/lib/python3.6/dist-packages (from scrapy) (1.5.1)\n",
            "Requirement already satisfied: queuelib in /usr/local/lib/python3.6/dist-packages (from scrapy) (1.5.0)\n",
            "Requirement already satisfied: cryptography>=2.3 in /usr/local/lib/python3.6/dist-packages (from pyOpenSSL->scrapy) (2.7)\n",
            "Requirement already satisfied: attrs>=16.0.0 in /usr/local/lib/python3.6/dist-packages (from service-identity->scrapy) (19.1.0)\n",
            "Requirement already satisfied: pyasn1 in /usr/local/lib/python3.6/dist-packages (from service-identity->scrapy) (0.4.5)\n",
            "Requirement already satisfied: pyasn1-modules in /usr/local/lib/python3.6/dist-packages (from service-identity->scrapy) (0.2.5)\n",
            "Requirement already satisfied: hyperlink>=17.1.1 in /usr/local/lib/python3.6/dist-packages (from Twisted>=13.1.0; python_version != \"3.4\"->scrapy) (19.0.0)\n",
            "Requirement already satisfied: zope.interface>=4.4.2 in /usr/local/lib/python3.6/dist-packages (from Twisted>=13.1.0; python_version != \"3.4\"->scrapy) (4.6.0)\n",
            "Requirement already satisfied: incremental>=16.10.1 in /usr/local/lib/python3.6/dist-packages (from Twisted>=13.1.0; python_version != \"3.4\"->scrapy) (17.5.0)\n",
            "Requirement already satisfied: Automat>=0.3.0 in /usr/local/lib/python3.6/dist-packages (from Twisted>=13.1.0; python_version != \"3.4\"->scrapy) (0.7.0)\n",
            "Requirement already satisfied: constantly>=15.1 in /usr/local/lib/python3.6/dist-packages (from Twisted>=13.1.0; python_version != \"3.4\"->scrapy) (15.1.0)\n",
            "Requirement already satisfied: PyHamcrest>=1.9.0 in /usr/local/lib/python3.6/dist-packages (from Twisted>=13.1.0; python_version != \"3.4\"->scrapy) (1.9.0)\n",
            "Requirement already satisfied: cffi!=1.11.3,>=1.8 in /usr/local/lib/python3.6/dist-packages (from cryptography>=2.3->pyOpenSSL->scrapy) (1.12.3)\n",
            "Requirement already satisfied: asn1crypto>=0.21.0 in /usr/local/lib/python3.6/dist-packages (from cryptography>=2.3->pyOpenSSL->scrapy) (0.24.0)\n",
            "Requirement already satisfied: idna>=2.5 in /usr/local/lib/python3.6/dist-packages (from hyperlink>=17.1.1->Twisted>=13.1.0; python_version != \"3.4\"->scrapy) (2.8)\n",
            "Requirement already satisfied: setuptools in /usr/local/lib/python3.6/dist-packages (from zope.interface>=4.4.2->Twisted>=13.1.0; python_version != \"3.4\"->scrapy) (41.0.1)\n",
            "Requirement already satisfied: pycparser in /usr/local/lib/python3.6/dist-packages (from cffi!=1.11.3,>=1.8->cryptography>=2.3->pyOpenSSL->scrapy) (2.19)\n"
          ],
          "name": "stdout"
        }
      ]
    },
    {
      "cell_type": "markdown",
      "metadata": {
        "id": "cZO971iySO07",
        "colab_type": "text"
      },
      "source": [
        "http://www.bilbaoturismo.net/BilbaoTurismo/es/buscador-de-pintxos_2 list of pintxos"
      ]
    },
    {
      "cell_type": "code",
      "metadata": {
        "id": "4muOUK5lR3aq",
        "colab_type": "code",
        "outputId": "67c3b36a-3e2e-4a13-ea29-caa5db59dbdd",
        "colab": {
          "base_uri": "https://localhost:8080/",
          "height": 1000
        }
      },
      "source": [
        "import scrapy\n",
        "import scrapy.crawler as crawler\n",
        "from multiprocessing import Process, Queue\n",
        "from twisted.internet import reactor\n",
        "\n",
        "pintxoslist=[]\n",
        "\n",
        "# your spider\n",
        "class QuotesSpider(scrapy.Spider):\n",
        "    name = 'bilbaoturismo'\n",
        "\n",
        "    #start_urls = ['http://www.bilbaoturismo.net/BilbaoTurismo/es/buscador-de-pintxos_2?pagina=1&zona=1361356724448']\n",
        "    def start_requests(self):\n",
        "      urls = [\n",
        "            'http://www.bilbaoturismo.net/BilbaoTurismo/es/buscador-de-pintxos_2?pagina=1&zona=1361356724448,1507081843308,1361356724652,1361356724659,1361356724666,1361356724673,1361356724467,1361356724680,1361356724481',\n",
        "            'http://www.bilbaoturismo.net/BilbaoTurismo/es/buscador-de-pintxos_2?pagina=2&zona=1361356724448,1507081843308,1361356724652,1361356724659,1361356724666,1361356724673,1361356724467,1361356724680,1361356724481',\n",
        "            'http://www.bilbaoturismo.net/BilbaoTurismo/es/buscador-de-pintxos_2?pagina=3&zona=1361356724448,1507081843308,1361356724652,1361356724659,1361356724666,1361356724673,1361356724467,1361356724680,1361356724481',\n",
        "            'http://www.bilbaoturismo.net/BilbaoTurismo/es/buscador-de-pintxos_2?pagina=4&zona=1361356724448,1507081843308,1361356724652,1361356724659,1361356724666,1361356724673,1361356724467,1361356724680,1361356724481',\n",
        "            'http://www.bilbaoturismo.net/BilbaoTurismo/es/buscador-de-pintxos_2?pagina=5&zona=1361356724448,1507081843308,1361356724652,1361356724659,1361356724666,1361356724673,1361356724467,1361356724680,1361356724481',\n",
        "            'http://www.bilbaoturismo.net/BilbaoTurismo/es/buscador-de-pintxos_2?pagina=6&zona=1361356724448,1507081843308,1361356724652,1361356724659,1361356724666,1361356724673,1361356724467,1361356724680,1361356724481',\n",
        "            'http://www.bilbaoturismo.net/BilbaoTurismo/es/buscador-de-pintxos_2?pagina=7&zona=1361356724448,1507081843308,1361356724652,1361356724659,1361356724666,1361356724673,1361356724467,1361356724680,1361356724481',\n",
        "            'http://www.bilbaoturismo.net/BilbaoTurismo/es/buscador-de-pintxos_2?pagina=8&zona=1361356724448,1507081843308,1361356724652,1361356724659,1361356724666,1361356724673,1361356724467,1361356724680,1361356724481',\n",
        "        ]\n",
        "      for url in urls:\n",
        "        yield scrapy.Request(url=url, callback=self.parse)\n",
        "\n",
        "\n",
        "    def parse(self, response):\n",
        "      for title in response.css('.column.x-image .negro-bg'): # restaurants names\n",
        "          print ({'title': title.css('a ::text').get().strip()})\n",
        "          pintxoslist.append(title.css('a ::text').get().strip())\n",
        "      for href in response.css('.column.x-image .negro-bg a::attr(href)').extract():\n",
        "          print(href) # restaurants urls\n",
        "\n",
        "\n",
        "# the wrapper to make it run more times\n",
        "def run_spider(spider):\n",
        "    def f(q):\n",
        "        try:\n",
        "            runner = crawler.CrawlerRunner()\n",
        "            deferred = runner.crawl(spider)\n",
        "            deferred.addBoth(lambda _: reactor.stop())\n",
        "            reactor.run()\n",
        "            q.put(None)\n",
        "        except Exception as e:\n",
        "            q.put(e)\n",
        "\n",
        "    q = Queue()\n",
        "    p = Process(target=f, args=(q,))\n",
        "    p.start()\n",
        "    result = q.get()\n",
        "    p.join()\n",
        "\n",
        "    if result is not None:\n",
        "        raise result\n",
        "        \n",
        "run_spider(QuotesSpider)"
      ],
      "execution_count": 0,
      "outputs": [
        {
          "output_type": "stream",
          "text": [
            "/BilbaoTurismo/es/buscador-de-pintxos/bodega-joserra_5\n",
            "/BilbaoTurismo/es/buscador-de-pintxos/la-tabernilla-de-pozas_5\n",
            "/BilbaoTurismo/es/buscador-de-pintxos/serantes_5\n",
            "/BilbaoTurismo/es/buscador-de-pintxos/sotera_5\n",
            "/BilbaoTurismo/es/buscador-de-pintxos/brass-27_5\n",
            "/BilbaoTurismo/es/buscador-de-pintxos/ziripot_5\n",
            "/BilbaoTurismo/es/buscador-de-pintxos/mugi-ardo-txoko_5\n",
            "/BilbaoTurismo/es/buscador-de-pintxos/el-huevo-berria_5\n",
            "/BilbaoTurismo/es/buscador-de-pintxos/el-huevo-frito_5\n",
            "/BilbaoTurismo/es/buscador-de-pintxos/desberdin_5\n",
            "/BilbaoTurismo/es/buscador-de-pintxos/gozatu_5\n",
            "/BilbaoTurismo/es/buscador-de-pintxos/asador-indusi_5\n",
            "/BilbaoTurismo/es/buscador-de-pintxos/gaztandegi_5\n",
            "/BilbaoTurismo/es/buscador-de-pintxos/estoril_5\n",
            "/BilbaoTurismo/es/buscador-de-pintxos/la-vina-del-ensanche_5\n",
            "/BilbaoTurismo/es/buscador-de-pintxos/la-olla_5\n",
            "/BilbaoTurismo/es/buscador-de-pintxos/maider_5\n",
            "/BilbaoTurismo/es/buscador-de-pintxos/dena-ona_5\n",
            "/BilbaoTurismo/es/buscador-de-pintxos/lurrina_2\n",
            "/BilbaoTurismo/es/buscador-de-pintxos/bilbao-berria_2\n",
            "/BilbaoTurismo/es/buscador-de-pintxos/gaztedi-berria_2\n",
            "/BilbaoTurismo/es/buscador-de-pintxos/promenade_2\n",
            "/BilbaoTurismo/es/buscador-de-pintxos/pura-brasa_2\n",
            "/BilbaoTurismo/es/buscador-de-pintxos/el-puertito_2\n",
            "/BilbaoTurismo/es/buscador-de-pintxos/atseden_3\n",
            "/BilbaoTurismo/es/buscador-de-pintxos/molinillo_2\n",
            "/BilbaoTurismo/es/buscador-de-pintxos/urkia-taberna\n",
            "/BilbaoTurismo/es/buscador-de-pintxos/bordatxo_5\n",
            "/BilbaoTurismo/es/buscador-de-pintxos/florida_5\n",
            "/BilbaoTurismo/es/buscador-de-pintxos/regio_5\n",
            "/BilbaoTurismo/es/buscador-de-pintxos/bodegon-mendia_5\n",
            "/BilbaoTurismo/es/buscador-de-pintxos/el-colmado-iberico_4\n",
            "/BilbaoTurismo/es/buscador-de-pintxos/el-figon_5\n",
            "/BilbaoTurismo/es/buscador-de-pintxos/ondarreta_5\n",
            "/BilbaoTurismo/es/buscador-de-pintxos/bar-plaza-unamuno_2\n",
            "/BilbaoTurismo/es/buscador-de-pintxos/cork\n",
            "/BilbaoTurismo/es/buscador-de-pintxos/xukela_5\n",
            "/BilbaoTurismo/es/buscador-de-pintxos/zuga_5\n",
            "/BilbaoTurismo/es/buscador-de-pintxos/gure-toki_5\n",
            "/BilbaoTurismo/es/buscador-de-pintxos/irrintzi_5\n",
            "/BilbaoTurismo/es/buscador-de-pintxos/cafe-bilbao_5\n",
            "/BilbaoTurismo/es/buscador-de-pintxos/berton_5\n",
            "/BilbaoTurismo/es/buscador-de-pintxos/charly_5\n",
            "/BilbaoTurismo/es/buscador-de-pintxos/motrikes_5\n",
            "/BilbaoTurismo/es/buscador-de-pintxos/rotterdam_5\n",
            "/BilbaoTurismo/es/buscador-de-pintxos/la-campa-de-los-ingleses\n",
            "/BilbaoTurismo/es/buscador-de-pintxos/cafe-iruna_4\n",
            "/BilbaoTurismo/es/buscador-de-pintxos/eme_5\n",
            "/BilbaoTurismo/es/buscador-de-pintxos/el-globo_5\n",
            "/BilbaoTurismo/es/buscador-de-pintxos/swansea_5\n",
            "/BilbaoTurismo/es/buscador-de-pintxos/izaro_5\n",
            "/BilbaoTurismo/es/buscador-de-pintxos/okela_5\n",
            "/BilbaoTurismo/es/buscador-de-pintxos/monty_5\n",
            "/BilbaoTurismo/es/buscador-de-pintxos/oriotarra_5\n",
            "/BilbaoTurismo/es/buscador-de-pintxos/marakay_5\n",
            "/BilbaoTurismo/es/buscador-de-pintxos/zurekin_2\n",
            "/BilbaoTurismo/es/buscador-de-pintxos/ledesma_5\n",
            "/BilbaoTurismo/es/buscador-de-pintxos/oizmendi_5\n",
            "/BilbaoTurismo/es/buscador-de-pintxos/antomar_5\n",
            "/BilbaoTurismo/es/buscador-de-pintxos/singular_5\n",
            "/BilbaoTurismo/es/buscador-de-pintxos/abando-y-barra_3\n",
            "/BilbaoTurismo/es/buscador-de-pintxos/el-12-de-ajuriaguerra_3\n",
            "/BilbaoTurismo/es/buscador-de-pintxos/txindoki_5\n",
            "/BilbaoTurismo/es/buscador-de-pintxos/alameda_5\n",
            "/BilbaoTurismo/es/buscador-de-pintxos/crazy-horse_5\n",
            "/BilbaoTurismo/es/buscador-de-pintxos/argoitia_5\n",
            "/BilbaoTurismo/es/buscador-de-pintxos/gatz_5\n",
            "/BilbaoTurismo/es/buscador-de-pintxos/los-fueros_5\n",
            "/BilbaoTurismo/es/buscador-de-pintxos/claudio_5\n",
            "/BilbaoTurismo/es/buscador-de-pintxos/sorginzulo_5\n",
            "/BilbaoTurismo/es/buscador-de-pintxos/baste_5\n",
            "/BilbaoTurismo/es/buscador-de-pintxos/saibigain_5\n"
          ],
          "name": "stdout"
        }
      ]
    },
    {
      "cell_type": "code",
      "metadata": {
        "id": "EZ-MIOkdR3fB",
        "colab_type": "code",
        "colab": {}
      },
      "source": [
        ""
      ],
      "execution_count": 0,
      "outputs": []
    }
  ]
}